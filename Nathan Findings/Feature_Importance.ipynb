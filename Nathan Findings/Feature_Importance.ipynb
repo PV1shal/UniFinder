{
 "cells": [
  {
   "cell_type": "markdown",
   "id": "e65f280a",
   "metadata": {},
   "source": [
    "### In this document, we aim to find out what is importance of each input. We often use 5 inputs, GPA, GRE Total, Work Experience, TOEFL/IELTS and Research Papers. However, we are trying to understand and rank which inputs are most to least significant. \n",
    "### We needed this to create a feature in our app that would help in recommending schools to the user. \n",
    "### We found that we could use the Random Forest Model and tap on its Permutaion Importance and Feature Importance properties"
   ]
  },
  {
   "cell_type": "code",
   "execution_count": 1,
   "id": "fd89dc90",
   "metadata": {},
   "outputs": [],
   "source": [
    "# https://scikit-learn.org/stable/auto_examples/ensemble/plot_forest_importances.html\n",
    "# https://scikit-learn.org/stable/auto_examples/inspection/plot_permutation_importance.html\n",
    "\n",
    "import pandas as pd\n",
    "data_path = '/Users/nathanyap/Desktop/DataMining_Project/project/Nathan Findings/TOEFL_IELTS_Combined.csv'\n",
    "df_admitsFYI = pd.read_csv(data_path)"
   ]
  },
  {
   "cell_type": "code",
   "execution_count": 4,
   "id": "f46db9f6",
   "metadata": {},
   "outputs": [
    {
     "data": {
      "text/html": [
       "<div>\n",
       "<style scoped>\n",
       "    .dataframe tbody tr th:only-of-type {\n",
       "        vertical-align: middle;\n",
       "    }\n",
       "\n",
       "    .dataframe tbody tr th {\n",
       "        vertical-align: top;\n",
       "    }\n",
       "\n",
       "    .dataframe thead th {\n",
       "        text-align: right;\n",
       "    }\n",
       "</style>\n",
       "<table border=\"1\" class=\"dataframe\">\n",
       "  <thead>\n",
       "    <tr style=\"text-align: right;\">\n",
       "      <th></th>\n",
       "      <th>Importance</th>\n",
       "    </tr>\n",
       "  </thead>\n",
       "  <tbody>\n",
       "    <tr>\n",
       "      <th>GPA</th>\n",
       "      <td>0.490204</td>\n",
       "    </tr>\n",
       "    <tr>\n",
       "      <th>GRE Total</th>\n",
       "      <td>0.206450</td>\n",
       "    </tr>\n",
       "    <tr>\n",
       "      <th>TOEFL/IELTS</th>\n",
       "      <td>0.186049</td>\n",
       "    </tr>\n",
       "    <tr>\n",
       "      <th>Work Exp</th>\n",
       "      <td>0.093192</td>\n",
       "    </tr>\n",
       "    <tr>\n",
       "      <th>Papers</th>\n",
       "      <td>0.024105</td>\n",
       "    </tr>\n",
       "  </tbody>\n",
       "</table>\n",
       "</div>"
      ],
      "text/plain": [
       "             Importance\n",
       "GPA            0.490204\n",
       "GRE Total      0.206450\n",
       "TOEFL/IELTS    0.186049\n",
       "Work Exp       0.093192\n",
       "Papers         0.024105"
      ]
     },
     "execution_count": 4,
     "metadata": {},
     "output_type": "execute_result"
    }
   ],
   "source": [
    "from sklearn.model_selection import train_test_split\n",
    "from sklearn.preprocessing import StandardScaler\n",
    "from sklearn.ensemble import RandomForestClassifier\n",
    "from sklearn.metrics import accuracy_score\n",
    "\n",
    "\n",
    "# we declare the dependent and independent variables\n",
    "X = df_admitsFYI[['GPA', 'GRE Total', 'TOEFL/IELTS', 'Work Exp', 'Papers']]\n",
    "y = df_admitsFYI['Status']\n",
    "\n",
    "# a bit of cleaning\n",
    "X = X.fillna(X.mean())\n",
    "\n",
    "# advised to scale\n",
    "scaler = StandardScaler()\n",
    "X_scaled = scaler.fit_transform(X)\n",
    "\n",
    "# usual split of the data with 70% for training\n",
    "X_train, X_test, y_train, y_test = train_test_split(X_scaled, y, test_size=0.3, random_state=42)\n",
    "\n",
    "# to start and traing the model\n",
    "rf_model = RandomForestClassifier(n_estimators=100, random_state=42)\n",
    "rf_model.fit(X_train, y_train)\n",
    "\n",
    "# working on the predictions\n",
    "y_pred_rf = rf_model.predict(X_test)\n",
    "accuracy_rf = accuracy_score(y_test, y_pred_rf)\n",
    "\n",
    "# extracting the importances\n",
    "feature_importances = pd.DataFrame(rf_model.feature_importances_, index=X.columns, columns=['Importance']).sort_values(by='Importance', ascending=False)\n",
    "\n",
    "# accuracy_rf, feature_importances\n",
    "\n",
    "\n",
    "# Interestingly, TOEFL matters, we had the assumption that english scores would not necessarily\n",
    "# be something of importance since it just qualifies someone to speak english\n",
    "feature_importances\n",
    "\n",
    "\n"
   ]
  },
  {
   "cell_type": "markdown",
   "id": "cd93bd51",
   "metadata": {},
   "source": [
    "### Directly below, we plotted the MDI graph\n",
    "### First, to explain what is MDI, MDI stands for \"Mean Decrease in Impurity\". MDI is not calculated based directly from a simple formula, instead it is derived from the construction process of the Random Forest. Since a Random Forest is composed of many decision trees, everytime we split at a tree, the algorithm selects the feature that results in the largest decrease in impurity. At each tree, the decrease in impurity attributed by each feature can be calcualted. The more a feature decreases the impurity, the more important that feature is. \n",
    "### With that being said, MDI has its limitations too. Since the purity is assessed at every split of the tree, this shows that MDI is biased towards high cardinality. The reason for this is because if a category has a unqiue value at every split, this would lead to a substantial decrease in purity at every split and therefore resulting in a false sense of purity. Even if in actuality, that split does not have much predictive power for the new data.\n",
    "### For this reason we will apply the Permutation Importance that you can see right below this analysis."
   ]
  },
  {
   "cell_type": "code",
   "execution_count": 6,
   "id": "dd7d7750",
   "metadata": {},
   "outputs": [
    {
     "data": {
      "image/png": "[encoded data removed]",
      "text/plain": [
       "<Figure size 720x432 with 1 Axes>"
      ]
     },
     "metadata": {
      "needs_background": "light"
     },
     "output_type": "display_data"
    }
   ],
   "source": [
    "import numpy as np\n",
    "import matplotlib.pyplot as plt\n",
    "import seaborn as sns\n",
    "\n",
    "std_devs = np.std([tree.feature_importances_ for tree in rf_model.estimators_], axis=0)\n",
    "\n",
    "# generating the MDI graph\n",
    "plt.figure(figsize=(10, 6))\n",
    "bar = plt.bar(X.columns, feature_importances['Importance'], yerr=std_devs, color='blue', capsize=5)\n",
    "\n",
    "# labeling\n",
    "plt.title('Feature Importances using MDI')\n",
    "plt.xlabel('Features')\n",
    "plt.ylabel('Mean Decrease in Impurity')\n",
    "\n",
    "# display\n",
    "plt.show()"
   ]
  },
  {
   "cell_type": "markdown",
   "id": "c9af16e5",
   "metadata": {},
   "source": [
    "### Permutation importances is something we used to determing whether there are high cardinality by computing on a held out test set. This would see if there are any high cardinality because the measure for permutation importances is how the accuracy decreases \n",
    "### As we can see here the mean decreases corresponds to the rank of importance except for GRE scores but we know that GPA and GRE are still probably the best features in calculating the admission chances of a student. As such, based on this analysis, we continue with the 5 features as already ranked."
   ]
  },
  {
   "cell_type": "code",
   "execution_count": 7,
   "id": "8a1dffa7",
   "metadata": {},
   "outputs": [
    {
     "data": {
      "image/png": "[encoded data removed]",
      "text/plain": [
       "<Figure size 864x576 with 1 Axes>"
      ]
     },
     "metadata": {
      "needs_background": "light"
     },
     "output_type": "display_data"
    }
   ],
   "source": [
    "from sklearn.inspection import permutation_importance\n",
    "\n",
    "# Performing permutation importance\n",
    "perm_importance = permutation_importance(rf_model, X_test, y_test, n_repeats=10, random_state=42)\n",
    "\n",
    "# Organizing the results\n",
    "perm_importance_sorted_idx = perm_importance.importances_mean.argsort()\n",
    "perm_importance_df = pd.DataFrame(perm_importance.importances[perm_importance_sorted_idx].T,\n",
    "                                  columns=X.columns[perm_importance_sorted_idx])\n",
    "\n",
    "# Plotting permutation feature importances with feature names on the x-axis\n",
    "plt.figure(figsize=(12, 8))\n",
    "perm_importance_barplot = sns.barplot(data=perm_importance_df, orient=\"v\", palette=\"coolwarm\")\n",
    "perm_importance_barplot.set_title('Feature Importances using Permutation on Full Model')\n",
    "perm_importance_barplot.set_ylabel('Mean Accuracy Decrease')\n",
    "perm_importance_barplot.set_xticklabels(perm_importance_barplot.get_xticklabels(), rotation=45, horizontalalignment='right')\n",
    "\n",
    "plt.tight_layout()\n",
    "plt.show()"
   ]
  },
  {
   "cell_type": "code",
   "execution_count": null,
   "id": "f35c8d0e",
   "metadata": {},
   "outputs": [],
   "source": []
  }
 ],
 "metadata": {
  "kernelspec": {
   "display_name": "Python 3 (ipykernel)",
   "language": "python",
   "name": "python3"
  },
  "language_info": {
   "codemirror_mode": {
    "name": "ipython",
    "version": 3
   },
   "file_extension": ".py",
   "mimetype": "text/x-python",
   "name": "python",
   "nbconvert_exporter": "python",
   "pygments_lexer": "ipython3",
   "version": "3.9.7"
  }
 },
 "nbformat": 4,
 "nbformat_minor": 5
}
