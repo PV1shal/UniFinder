{
 "cells": [
  {
   "cell_type": "markdown",
   "id": "3036c36e",
   "metadata": {},
   "source": [
    "#### Please refer to the Feature_Importance.ipynb to understand how we managed to get the total weighted score. That document will explain how we found the formula to calculate a total weighted score"
   ]
  },
  {
   "cell_type": "code",
   "execution_count": 1,
   "id": "affaeb89",
   "metadata": {},
   "outputs": [],
   "source": [
    "import pandas as pd\n",
    "data_path = '/Users/nathanyap/Desktop/DataMining_Project/project/Nathan Findings/TOEFL_IELTS_Combined.csv'\n",
    "df_admitsFYI = pd.read_csv(data_path)"
   ]
  },
  {
   "cell_type": "code",
   "execution_count": null,
   "id": "79f6b052",
   "metadata": {},
   "outputs": [],
   "source": []
  },
  {
   "cell_type": "code",
   "execution_count": 2,
   "id": "c48a063e",
   "metadata": {},
   "outputs": [
    {
     "data": {
      "text/html": [
       "<div>\n",
       "<style scoped>\n",
       "    .dataframe tbody tr th:only-of-type {\n",
       "        vertical-align: middle;\n",
       "    }\n",
       "\n",
       "    .dataframe tbody tr th {\n",
       "        vertical-align: top;\n",
       "    }\n",
       "\n",
       "    .dataframe thead th {\n",
       "        text-align: right;\n",
       "    }\n",
       "</style>\n",
       "<table border=\"1\" class=\"dataframe\">\n",
       "  <thead>\n",
       "    <tr style=\"text-align: right;\">\n",
       "      <th></th>\n",
       "      <th>Importance</th>\n",
       "    </tr>\n",
       "  </thead>\n",
       "  <tbody>\n",
       "    <tr>\n",
       "      <th>GPA</th>\n",
       "      <td>0.490204</td>\n",
       "    </tr>\n",
       "    <tr>\n",
       "      <th>GRE Total</th>\n",
       "      <td>0.206450</td>\n",
       "    </tr>\n",
       "    <tr>\n",
       "      <th>TOEFL/IELTS</th>\n",
       "      <td>0.186049</td>\n",
       "    </tr>\n",
       "    <tr>\n",
       "      <th>Work Exp</th>\n",
       "      <td>0.093192</td>\n",
       "    </tr>\n",
       "    <tr>\n",
       "      <th>Papers</th>\n",
       "      <td>0.024105</td>\n",
       "    </tr>\n",
       "  </tbody>\n",
       "</table>\n",
       "</div>"
      ],
      "text/plain": [
       "             Importance\n",
       "GPA            0.490204\n",
       "GRE Total      0.206450\n",
       "TOEFL/IELTS    0.186049\n",
       "Work Exp       0.093192\n",
       "Papers         0.024105"
      ]
     },
     "execution_count": 2,
     "metadata": {},
     "output_type": "execute_result"
    }
   ],
   "source": [
    "from sklearn.model_selection import train_test_split\n",
    "from sklearn.preprocessing import StandardScaler\n",
    "from sklearn.ensemble import RandomForestClassifier\n",
    "from sklearn.metrics import accuracy_score\n",
    "\n",
    "\n",
    "# we declare the dependent and independent variables\n",
    "X = df_admitsFYI[['GPA', 'GRE Total', 'TOEFL/IELTS', 'Work Exp', 'Papers']]\n",
    "y = df_admitsFYI['Status']\n",
    "\n",
    "# a bit of cleaning\n",
    "X = X.fillna(X.mean())\n",
    "\n",
    "# advised to scale\n",
    "scaler = StandardScaler()\n",
    "X_scaled = scaler.fit_transform(X)\n",
    "\n",
    "# usual split of the data with 70% for training\n",
    "X_train, X_test, y_train, y_test = train_test_split(X_scaled, y, test_size=0.3, random_state=42)\n",
    "\n",
    "# to start and traing the model\n",
    "rf_model = RandomForestClassifier(n_estimators=100, random_state=42)\n",
    "rf_model.fit(X_train, y_train)\n",
    "\n",
    "# working on the predictions\n",
    "y_pred_rf = rf_model.predict(X_test)\n",
    "accuracy_rf = accuracy_score(y_test, y_pred_rf)\n",
    "\n",
    "# extracting the importances\n",
    "feature_importances = pd.DataFrame(rf_model.feature_importances_, index=X.columns, columns=['Importance']).sort_values(by='Importance', ascending=False)\n",
    "\n",
    "feature_importances"
   ]
  },
  {
   "cell_type": "code",
   "execution_count": 7,
   "id": "defc99e4",
   "metadata": {},
   "outputs": [
    {
     "data": {
      "text/plain": [
       "University\n",
       "ETH Zurich                         70.971380\n",
       "Harvard University                 70.623165\n",
       "Columbia University                70.053918\n",
       "Georgia Institute of Technology    69.960539\n",
       "Carnegie Mellon University         69.895005\n",
       "Name: Weighted_Score, dtype: float64"
      ]
     },
     "execution_count": 7,
     "metadata": {},
     "output_type": "execute_result"
    }
   ],
   "source": [
    "# using the different weights, we can calculate a total score based on these numbers.\n",
    "# Let's try ranking the schools first to get the list of schools and thier scores.\n",
    "\n",
    "# start first by multiplying each feature by its corresponding weight\n",
    "df_admitsFYI['Weighted_Score'] = (\n",
    "    df_admitsFYI['GPA'] * feature_importances.loc['GPA', 'Importance'] +\n",
    "    df_admitsFYI['GRE Total'] * feature_importances.loc['GRE Total', 'Importance'] +\n",
    "    df_admitsFYI['TOEFL/IELTS'] * feature_importances.loc['TOEFL/IELTS', 'Importance'] +\n",
    "    df_admitsFYI['Work Exp'] * feature_importances.loc['Work Exp', 'Importance'] +\n",
    "    df_admitsFYI['Papers'] * feature_importances.loc['Papers', 'Importance']\n",
    ")\n",
    "\n",
    "# Calculating the average weighted score for students in each university\n",
    "average_scores_by_university = df_admitsFYI.groupby('University')['Weighted_Score'].mean().sort_values(ascending=False)\n",
    "\n",
    "# this will give the top 5 schools\n",
    "average_scores_by_university.head(5)"
   ]
  },
  {
   "cell_type": "code",
   "execution_count": 8,
   "id": "7a8b689f",
   "metadata": {},
   "outputs": [
    {
     "data": {
      "text/plain": [
       "University\n",
       "Hult International Business School, Boston    62.842727\n",
       "Lewis University                              62.723028\n",
       "Gannon University                             62.431742\n",
       "Indiana Tech                                  62.071799\n",
       "Governors State University                    61.807253\n",
       "Name: Weighted_Score, dtype: float64"
      ]
     },
     "execution_count": 8,
     "metadata": {},
     "output_type": "execute_result"
    }
   ],
   "source": [
    "# this will give the bottom 5 schools\n",
    "average_scores_by_university.tail(5)"
   ]
  },
  {
   "cell_type": "code",
   "execution_count": 19,
   "id": "d540cbdb",
   "metadata": {},
   "outputs": [
    {
     "data": {
      "text/plain": [
       "65.24666346339869"
      ]
     },
     "execution_count": 19,
     "metadata": {},
     "output_type": "execute_result"
    }
   ],
   "source": [
    "# Now we can try building this ranking system where say I am a student with these stats\n",
    "# 1) GPA: 3.1\n",
    "# 2) GRE: 300\n",
    "# 3) TOEFL/IELTS: 8.5\n",
    "# 4) Work Exp: 2\n",
    "# 5) Research: 1\n",
    "# So the total score for this would be 65.247\n",
    "# then now, I want to ask my system to recommend 5 schools that I should apply where the weighted scores are above me\n",
    "# and also 5 schools that I should apply that are below me\n",
    "\n",
    "# load the student details to a map\n",
    "student_details = {\n",
    "    'GPA': 3.1,\n",
    "    'GRE Total': 300,\n",
    "    'TOEFL/IELTS': 8.5,\n",
    "    'Work Exp': 2,\n",
    "    'Papers': 1\n",
    "}\n",
    "\n",
    "# Calculating the student's weighted score using the feature importances\n",
    "student_weighted_score = (\n",
    "    student_details['GPA'] * feature_importances.loc['GPA', 'Importance'] +\n",
    "    student_details['GRE Total'] * feature_importances.loc['GRE Total', 'Importance'] +\n",
    "    student_details['TOEFL/IELTS'] * feature_importances.loc['TOEFL/IELTS', 'Importance'] +\n",
    "    student_details['Work Exp'] * feature_importances.loc['Work Exp', 'Importance'] +\n",
    "    student_details['Papers'] * feature_importances.loc['Papers', 'Importance']\n",
    ")\n",
    "\n",
    "# Finding the 5 schools above and 5 below the student's score\n",
    "schools_above = average_scores_by_university[average_scores_by_university > student_weighted_score].nsmallest(5).sort_values(ascending=False)\n",
    "schools_below = average_scores_by_university[average_scores_by_university < student_weighted_score].nlargest(5)\n",
    "\n",
    "student_weighted_score"
   ]
  },
  {
   "cell_type": "code",
   "execution_count": 21,
   "id": "1e3b8180",
   "metadata": {},
   "outputs": [
    {
     "data": {
      "text/plain": [
       "['California State University, Long Beach',\n",
       " 'New Jersey Institute of Technology',\n",
       " 'Johnson and Wales University, Providence',\n",
       " 'Indiana State University',\n",
       " 'Illinois State University']"
      ]
     },
     "execution_count": 21,
     "metadata": {},
     "output_type": "execute_result"
    }
   ],
   "source": [
    "schools_above.index.tolist()"
   ]
  },
  {
   "cell_type": "code",
   "execution_count": 28,
   "id": "2f411758",
   "metadata": {},
   "outputs": [
    {
     "name": "stdout",
     "output_type": "stream",
     "text": [
      "We believe you should apply to these 5 schools as your Targets\n",
      "1) California State University, Long Beach\n",
      "2) New Jersey Institute of Technology\n",
      "3) Johnson and Wales University, Providence\n",
      "4) Indiana State University\n",
      "5) Illinois State University\n",
      "\n",
      "On the other hand, we believe you should apply to these schoools as your Safeties\n",
      "1) James Cook University, Townsville\n",
      "2) Kettering University, Flint\n",
      "3) Florida International University, Miami\n",
      "4) Florida Atlantic University\n",
      "5) Grand Valley State University\n"
     ]
    }
   ],
   "source": [
    "print(\"We believe you should apply to these 5 schools as your Targets\")\n",
    "for i in range(5):\n",
    "    print(f\"{i + 1}) {schools_above.index.tolist()[i]}\")\n",
    "print()\n",
    "print(\"On the other hand, we believe you should apply to these schoools as your Safeties\")\n",
    "for i in range(5):\n",
    "    print(f\"{i + 1}) {schools_below.index.tolist()[i]}\")"
   ]
  },
  {
   "cell_type": "code",
   "execution_count": null,
   "id": "fb284073",
   "metadata": {},
   "outputs": [],
   "source": []
  }
 ],
 "metadata": {
  "kernelspec": {
   "display_name": "Python 3 (ipykernel)",
   "language": "python",
   "name": "python3"
  },
  "language_info": {
   "codemirror_mode": {
    "name": "ipython",
    "version": 3
   },
   "file_extension": ".py",
   "mimetype": "text/x-python",
   "name": "python",
   "nbconvert_exporter": "python",
   "pygments_lexer": "ipython3",
   "version": "3.9.7"
  }
 },
 "nbformat": 4,
 "nbformat_minor": 5
}
